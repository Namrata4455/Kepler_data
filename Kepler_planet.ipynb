{
 "cells": [
  {
   "cell_type": "markdown",
   "metadata": {
    "colab": {
     "base_uri": "https://localhost:8080/"
    },
    "id": "R3q0MwSRQiZG",
    "outputId": "66617476-56b3-4c19-d641-1d81fb98cfde"
   },
   "source": [
    "## Problem 2\n",
    "Create an ML algorithm to classify the planets as Candidate/False positive/Confirmed etc based on the  column “koi_disposition”.\n"
   ]
  },
  {
   "cell_type": "markdown",
   "metadata": {},
   "source": [
    "### Importing laibraries"
   ]
  },
  {
   "cell_type": "code",
   "execution_count": 1,
   "metadata": {},
   "outputs": [],
   "source": [
    "import pandas as pd\n",
    "from sklearn.model_selection import train_test_split\n",
    "from sklearn.preprocessing import LabelEncoder, StandardScaler\n",
    "from sklearn.ensemble import RandomForestClassifier\n",
    "from sklearn.metrics import classification_report, confusion_matrix"
   ]
  },
  {
   "cell_type": "markdown",
   "metadata": {},
   "source": [
    "### loading the data"
   ]
  },
  {
   "cell_type": "code",
   "execution_count": 2,
   "metadata": {},
   "outputs": [],
   "source": [
    "# Load the dataset\n",
    "df = pd.read_csv('kepler_data.csv')"
   ]
  },
  {
   "cell_type": "markdown",
   "metadata": {},
   "source": [
    "### EDA"
   ]
  },
  {
   "cell_type": "code",
   "execution_count": 3,
   "metadata": {},
   "outputs": [
    {
     "name": "stdout",
     "output_type": "stream",
     "text": [
      "<class 'pandas.core.frame.DataFrame'>\n",
      "RangeIndex: 9564 entries, 0 to 9563\n",
      "Data columns (total 49 columns):\n",
      " #   Column             Non-Null Count  Dtype  \n",
      "---  ------             --------------  -----  \n",
      " 0   kepid              9564 non-null   int64  \n",
      " 1   kepoi_name         9564 non-null   object \n",
      " 2   kepler_name        2360 non-null   object \n",
      " 3   koi_disposition    9564 non-null   object \n",
      " 4   koi_pdisposition   9564 non-null   object \n",
      " 5   koi_score          8054 non-null   float64\n",
      " 6   koi_fpflag_nt      9564 non-null   int64  \n",
      " 7   koi_fpflag_ss      9564 non-null   int64  \n",
      " 8   koi_fpflag_co      9564 non-null   int64  \n",
      " 9   koi_fpflag_ec      9564 non-null   int64  \n",
      " 10  koi_period         9564 non-null   float64\n",
      " 11  koi_period_err1    9110 non-null   float64\n",
      " 12  koi_period_err2    9110 non-null   float64\n",
      " 13  koi_time0bk        9564 non-null   float64\n",
      " 14  koi_time0bk_err1   9110 non-null   float64\n",
      " 15  koi_time0bk_err2   9110 non-null   float64\n",
      " 16  koi_impact         9201 non-null   float64\n",
      " 17  koi_impact_err1    9110 non-null   float64\n",
      " 18  koi_impact_err2    9110 non-null   float64\n",
      " 19  koi_duration       9564 non-null   float64\n",
      " 20  koi_duration_err1  9110 non-null   float64\n",
      " 21  koi_duration_err2  9110 non-null   float64\n",
      " 22  koi_depth          9201 non-null   float64\n",
      " 23  koi_depth_err1     9110 non-null   float64\n",
      " 24  koi_depth_err2     9110 non-null   float64\n",
      " 25  koi_prad           9201 non-null   float64\n",
      " 26  koi_prad_err1      9201 non-null   float64\n",
      " 27  koi_prad_err2      9201 non-null   float64\n",
      " 28  koi_teq            9201 non-null   float64\n",
      " 29  koi_teq_err1       0 non-null      float64\n",
      " 30  koi_teq_err2       0 non-null      float64\n",
      " 31  koi_insol          9243 non-null   float64\n",
      " 32  koi_insol_err1     9243 non-null   float64\n",
      " 33  koi_insol_err2     9243 non-null   float64\n",
      " 34  koi_model_snr      9201 non-null   float64\n",
      " 35  koi_tce_plnt_num   9218 non-null   float64\n",
      " 36  koi_tce_delivname  9218 non-null   object \n",
      " 37  koi_steff          9201 non-null   float64\n",
      " 38  koi_steff_err1     9096 non-null   float64\n",
      " 39  koi_steff_err2     9081 non-null   float64\n",
      " 40  koi_slogg          9201 non-null   float64\n",
      " 41  koi_slogg_err1     9096 non-null   float64\n",
      " 42  koi_slogg_err2     9096 non-null   float64\n",
      " 43  koi_srad           9201 non-null   float64\n",
      " 44  koi_srad_err1      9096 non-null   float64\n",
      " 45  koi_srad_err2      9096 non-null   float64\n",
      " 46  ra                 9564 non-null   float64\n",
      " 47  dec                9564 non-null   float64\n",
      " 48  koi_kepmag         9563 non-null   float64\n",
      "dtypes: float64(39), int64(5), object(5)\n",
      "memory usage: 3.6+ MB\n",
      "None\n",
      "kepid                   0\n",
      "kepoi_name              0\n",
      "kepler_name          7204\n",
      "koi_disposition         0\n",
      "koi_pdisposition        0\n",
      "koi_score            1510\n",
      "koi_fpflag_nt           0\n",
      "koi_fpflag_ss           0\n",
      "koi_fpflag_co           0\n",
      "koi_fpflag_ec           0\n",
      "koi_period              0\n",
      "koi_period_err1       454\n",
      "koi_period_err2       454\n",
      "koi_time0bk             0\n",
      "koi_time0bk_err1      454\n",
      "koi_time0bk_err2      454\n",
      "koi_impact            363\n",
      "koi_impact_err1       454\n",
      "koi_impact_err2       454\n",
      "koi_duration            0\n",
      "koi_duration_err1     454\n",
      "koi_duration_err2     454\n",
      "koi_depth             363\n",
      "koi_depth_err1        454\n",
      "koi_depth_err2        454\n",
      "koi_prad              363\n",
      "koi_prad_err1         363\n",
      "koi_prad_err2         363\n",
      "koi_teq               363\n",
      "koi_teq_err1         9564\n",
      "koi_teq_err2         9564\n",
      "koi_insol             321\n",
      "koi_insol_err1        321\n",
      "koi_insol_err2        321\n",
      "koi_model_snr         363\n",
      "koi_tce_plnt_num      346\n",
      "koi_tce_delivname     346\n",
      "koi_steff             363\n",
      "koi_steff_err1        468\n",
      "koi_steff_err2        483\n",
      "koi_slogg             363\n",
      "koi_slogg_err1        468\n",
      "koi_slogg_err2        468\n",
      "koi_srad              363\n",
      "koi_srad_err1         468\n",
      "koi_srad_err2         468\n",
      "ra                      0\n",
      "dec                     0\n",
      "koi_kepmag              1\n",
      "dtype: int64\n"
     ]
    }
   ],
   "source": [
    "# EDA\n",
    "print(df.info())\n",
    "null = df.isnull().sum()\n",
    "print(null)\n"
   ]
  },
  {
   "cell_type": "code",
   "execution_count": 4,
   "metadata": {
    "colab": {
     "base_uri": "https://localhost:8080/"
    },
    "id": "YGyiP0KJRiZd",
    "outputId": "cba231e6-5673-4b6f-e806-236a1fc637d3"
   },
   "outputs": [
    {
     "data": {
      "text/plain": [
       "(9564, 49)"
      ]
     },
     "execution_count": 4,
     "metadata": {},
     "output_type": "execute_result"
    }
   ],
   "source": [
    "df.shape"
   ]
  },
  {
   "cell_type": "markdown",
   "metadata": {},
   "source": [
    "### Missing values"
   ]
  },
  {
   "cell_type": "code",
   "execution_count": 5,
   "metadata": {
    "colab": {
     "base_uri": "https://localhost:8080/"
    },
    "id": "mYuYgaPpZt5J",
    "outputId": "49de1a2c-06de-4819-84ee-71ba16128c08"
   },
   "outputs": [
    {
     "name": "stdout",
     "output_type": "stream",
     "text": [
      "kepid                0\n",
      "kepoi_name           0\n",
      "kepler_name          0\n",
      "koi_disposition      0\n",
      "koi_pdisposition     0\n",
      "koi_score            0\n",
      "koi_fpflag_nt        0\n",
      "koi_fpflag_ss        0\n",
      "koi_fpflag_co        0\n",
      "koi_fpflag_ec        0\n",
      "koi_period           0\n",
      "koi_period_err1      0\n",
      "koi_period_err2      0\n",
      "koi_time0bk          0\n",
      "koi_time0bk_err1     0\n",
      "koi_time0bk_err2     0\n",
      "koi_impact           0\n",
      "koi_impact_err1      0\n",
      "koi_impact_err2      0\n",
      "koi_duration         0\n",
      "koi_duration_err1    0\n",
      "koi_duration_err2    0\n",
      "koi_depth            0\n",
      "koi_depth_err1       0\n",
      "koi_depth_err2       0\n",
      "koi_prad             0\n",
      "koi_prad_err1        0\n",
      "koi_prad_err2        0\n",
      "koi_teq              0\n",
      "koi_teq_err1         0\n",
      "koi_teq_err2         0\n",
      "koi_insol            0\n",
      "koi_insol_err1       0\n",
      "koi_insol_err2       0\n",
      "koi_model_snr        0\n",
      "koi_tce_plnt_num     0\n",
      "koi_tce_delivname    0\n",
      "koi_steff            0\n",
      "koi_steff_err1       0\n",
      "koi_steff_err2       0\n",
      "koi_slogg            0\n",
      "koi_slogg_err1       0\n",
      "koi_slogg_err2       0\n",
      "koi_srad             0\n",
      "koi_srad_err1        0\n",
      "koi_srad_err2        0\n",
      "ra                   0\n",
      "dec                  0\n",
      "koi_kepmag           0\n",
      "dtype: int64\n"
     ]
    }
   ],
   "source": [
    "\n",
    "df.isnull().sum()\n",
    "# Fill all missing values (NaNs) in the DataFrame with 1\n",
    "df_filled = df.fillna(1)\n",
    "\n",
    "# Check if the missing values are filled\n",
    "print(df_filled.isnull().sum())\n",
    "\n"
   ]
  },
  {
   "cell_type": "code",
   "execution_count": 6,
   "metadata": {
    "colab": {
     "base_uri": "https://localhost:8080/"
    },
    "id": "qh43sZgosqYB",
    "outputId": "b365cbc7-3a9b-410b-de10-ee24f7ee3048"
   },
   "outputs": [
    {
     "name": "stdout",
     "output_type": "stream",
     "text": [
      "Original shape: (9564, 49)\n",
      "Cleaned shape: (0, 49)\n"
     ]
    }
   ],
   "source": [
    "import pandas as pd\n",
    "\n",
    "numeric_columns = df.select_dtypes(include=['float64', 'int64']).columns\n",
    "\n",
    "# Function to find and remove outliers based on IQR\n",
    "def remove_outliers(df, column):\n",
    "    # Calculate Q1 (25th percentile) and Q3 (75th percentile)\n",
    "    Q1 = df[column].quantile(0.25)\n",
    "    Q3 = df[column].quantile(0.75)\n",
    "    IQR = Q3 - Q1\n",
    "\n",
    "    # Define bounds for outliers\n",
    "    lower_bound = Q1 - 1.5 * IQR\n",
    "    upper_bound = Q3 + 1.5 * IQR\n",
    "\n",
    "    # Filter out outliers\n",
    "    df_filtered = df[(df[column] >= lower_bound) & (df[column] <= upper_bound)]\n",
    "\n",
    "    return df_filtered\n",
    "\n",
    "# Apply the outlier removal function to each numeric column\n",
    "df_cleaned = df.copy()  \n",
    "for column in numeric_columns:\n",
    "    df_cleaned = remove_outliers(df_cleaned, column)\n",
    "\n",
    "# Verify the shape of the DataFrame before and after removing outliers\n",
    "print(f\"Original shape: {df.shape}\")\n",
    "print(f\"Cleaned shape: {df_cleaned.shape}\")\n"
   ]
  },
  {
   "cell_type": "code",
   "execution_count": 7,
   "metadata": {
    "id": "Af-tFSN2iTC-"
   },
   "outputs": [],
   "source": [
    "df=df.drop(columns=['kepoi_name'])\n",
    "df=df.drop(columns=['kepler_name'])"
   ]
  },
  {
   "cell_type": "code",
   "execution_count": 8,
   "metadata": {
    "id": "20JSga9chvgo"
   },
   "outputs": [],
   "source": [
    "df.columns\n",
    "df = df.drop(columns=['koi_pdisposition'])\n"
   ]
  },
  {
   "cell_type": "code",
   "execution_count": 9,
   "metadata": {
    "colab": {
     "base_uri": "https://localhost:8080/"
    },
    "id": "zUMNOWZcUD8f",
    "outputId": "1456987a-4421-49d6-b48e-953e0a3b7093"
   },
   "outputs": [
    {
     "data": {
      "text/plain": [
       "Index(['kepid', 'koi_disposition', 'koi_score', 'koi_fpflag_nt',\n",
       "       'koi_fpflag_ss', 'koi_fpflag_co', 'koi_fpflag_ec', 'koi_period',\n",
       "       'koi_period_err1', 'koi_period_err2', 'koi_time0bk', 'koi_time0bk_err1',\n",
       "       'koi_time0bk_err2', 'koi_impact', 'koi_impact_err1', 'koi_impact_err2',\n",
       "       'koi_duration', 'koi_duration_err1', 'koi_duration_err2', 'koi_depth',\n",
       "       'koi_depth_err1', 'koi_depth_err2', 'koi_prad', 'koi_prad_err1',\n",
       "       'koi_prad_err2', 'koi_teq', 'koi_teq_err1', 'koi_teq_err2', 'koi_insol',\n",
       "       'koi_insol_err1', 'koi_insol_err2', 'koi_model_snr', 'koi_tce_plnt_num',\n",
       "       'koi_tce_delivname', 'koi_steff', 'koi_steff_err1', 'koi_steff_err2',\n",
       "       'koi_slogg', 'koi_slogg_err1', 'koi_slogg_err2', 'koi_srad',\n",
       "       'koi_srad_err1', 'koi_srad_err2', 'ra', 'dec', 'koi_kepmag'],\n",
       "      dtype='object')"
      ]
     },
     "execution_count": 9,
     "metadata": {},
     "output_type": "execute_result"
    }
   ],
   "source": [
    "df.columns"
   ]
  },
  {
   "cell_type": "markdown",
   "metadata": {
    "id": "hJXZhgxM2U8a"
   },
   "source": [
    "**USING RANDOM FOREST WITHOUT HYPERPARAMTERS**"
   ]
  },
  {
   "cell_type": "code",
   "execution_count": 10,
   "metadata": {
    "colab": {
     "base_uri": "https://localhost:8080/"
    },
    "id": "AnVLyuNgsAA6",
    "outputId": "b68638a4-3330-418b-99f0-1d0d74ee3973"
   },
   "outputs": [
    {
     "name": "stdout",
     "output_type": "stream",
     "text": [
      "Accuracy: 0.90\n",
      "Confusion Matrix:\n",
      "[[365  94  25]\n",
      " [ 63 421   6]\n",
      " [ 12   0 927]]\n",
      "Classification Report:\n",
      "              precision    recall  f1-score   support\n",
      "\n",
      "           0       0.83      0.75      0.79       484\n",
      "           1       0.82      0.86      0.84       490\n",
      "           2       0.97      0.99      0.98       939\n",
      "\n",
      "    accuracy                           0.90      1913\n",
      "   macro avg       0.87      0.87      0.87      1913\n",
      "weighted avg       0.89      0.90      0.89      1913\n",
      "\n"
     ]
    }
   ],
   "source": [
    "import pandas as pd\n",
    "from sklearn.model_selection import train_test_split\n",
    "from sklearn.ensemble import RandomForestClassifier\n",
    "from sklearn.metrics import classification_report, confusion_matrix, accuracy_score\n",
    "from sklearn.preprocessing import OneHotEncoder, StandardScaler, LabelEncoder\n",
    "from sklearn.compose import ColumnTransformer\n",
    "from sklearn.pipeline import Pipeline\n",
    "\n",
    "# Fill missing values with a placeholder\n",
    "df = df.fillna(1)\n",
    "\n",
    "# Encode categorical target variable 'koi_disposition'\n",
    "label_encoder = LabelEncoder()\n",
    "df['koi_disposition_encoded'] = label_encoder.fit_transform(df['koi_disposition'].astype(str))\n",
    "\n",
    "# Separate features and target variable\n",
    "X = df.drop(columns=['koi_disposition', 'koi_disposition_encoded'])\n",
    "y = df['koi_disposition_encoded']\n",
    "\n",
    "# Identify categorical and numeric columns\n",
    "categorical_columns = X.select_dtypes(include=['object']).columns.tolist()\n",
    "numeric_columns = X.select_dtypes(include=['float64', 'int64']).columns.tolist()\n",
    "\n",
    "# Convert categorical columns to strings to ensure consistent data types\n",
    "for col in categorical_columns:\n",
    "    X[col] = X[col].astype(str)\n",
    "\n",
    "# Define preprocessor with one-hot encoding for categorical features and scaling for numeric features\n",
    "preprocessor = ColumnTransformer(\n",
    "    transformers=[\n",
    "        ('cat', OneHotEncoder(handle_unknown='ignore'), categorical_columns),\n",
    "        ('num', StandardScaler(), numeric_columns)\n",
    "    ],\n",
    "    remainder='passthrough'\n",
    ")\n",
    "\n",
    "# Create a pipeline that first transforms data and then fits the model\n",
    "pipeline = Pipeline(steps=[\n",
    "    ('preprocessor', preprocessor),\n",
    "    ('classifier', RandomForestClassifier(n_estimators=100, random_state=42))\n",
    "])\n",
    "\n",
    "# Split the data into training and testing sets\n",
    "X_train, X_test, y_train, y_test = train_test_split(X, y, test_size=0.2, random_state=42)\n",
    "\n",
    "# Train the model\n",
    "pipeline.fit(X_train, y_train)\n",
    "\n",
    "# Make predictions on the test set\n",
    "y_pred = pipeline.predict(X_test)\n",
    "\n",
    "# Evaluate the model\n",
    "accuracy = accuracy_score(y_test, y_pred)\n",
    "conf_matrix = confusion_matrix(y_test, y_pred)\n",
    "class_report = classification_report(y_test, y_pred)\n",
    "\n",
    "# Print evaluation metrics\n",
    "print(f\"Accuracy: {accuracy:.2f}\")\n",
    "print(\"Confusion Matrix:\")\n",
    "print(conf_matrix)\n",
    "print(\"Classification Report:\")\n",
    "print(class_report)\n"
   ]
  },
  {
   "cell_type": "markdown",
   "metadata": {
    "id": "GPsaOCNo2fUt"
   },
   "source": [
    "**Random forest after using HYPERPARAMETER**"
   ]
  },
  {
   "cell_type": "code",
   "execution_count": 11,
   "metadata": {
    "id": "4_uiQhnw03Qu"
   },
   "outputs": [],
   "source": [
    "import pandas as pd\n",
    "import numpy as np\n",
    "import matplotlib.pyplot as plt\n",
    "from sklearn.model_selection import train_test_split, GridSearchCV\n",
    "from sklearn.ensemble import RandomForestClassifier\n",
    "from sklearn.metrics import classification_report, confusion_matrix, accuracy_score\n",
    "from sklearn.preprocessing import OneHotEncoder, StandardScaler, LabelEncoder\n",
    "from sklearn.compose import ColumnTransformer\n",
    "from sklearn.pipeline import Pipeline\n",
    "from sklearn.impute import SimpleImputer"
   ]
  },
  {
   "cell_type": "code",
   "execution_count": 12,
   "metadata": {
    "id": "GnQCx1Wo06yn"
   },
   "outputs": [],
   "source": [
    "# Convert all columns to string type to ensure consistency for OneHotEncoder\n",
    "categorical_columns = df.select_dtypes(include=['object']).columns.tolist() \n",
    "df[categorical_columns] = df[categorical_columns].astype(str)\n"
   ]
  },
  {
   "cell_type": "code",
   "execution_count": 13,
   "metadata": {
    "id": "15CpEBKF0-II"
   },
   "outputs": [],
   "source": [
    "# Encode categorical target variable 'koi_disposition'\n",
    "label_encoder = LabelEncoder()\n",
    "df['koi_disposition_encoded'] = label_encoder.fit_transform(df['koi_disposition'])\n"
   ]
  },
  {
   "cell_type": "code",
   "execution_count": 14,
   "metadata": {
    "id": "wjpM8fTt1BP9"
   },
   "outputs": [],
   "source": [
    "# Separate features and target variable\n",
    "X = df.drop(columns=['koi_disposition', 'koi_disposition_encoded'])\n",
    "y = df['koi_disposition_encoded']\n"
   ]
  },
  {
   "cell_type": "code",
   "execution_count": 15,
   "metadata": {
    "id": "HVs3WxKD1ErD"
   },
   "outputs": [],
   "source": [
    "# Identify categorical and numeric columns\n",
    "categorical_columns = X.select_dtypes(include=['object']).columns.tolist()\n",
    "numeric_columns = X.select_dtypes(include=['float64', 'int64']).columns.tolist()\n",
    "\n",
    "# Define preprocessor with imputation, one-hot encoding for categorical features and scaling for numeric features\n",
    "preprocessor = ColumnTransformer(\n",
    "    transformers=[\n",
    "        ('cat', Pipeline(steps=[\n",
    "            ('imputer', SimpleImputer(strategy='most_frequent')),\n",
    "            ('onehot', OneHotEncoder(handle_unknown='ignore'))\n",
    "        ]), categorical_columns),\n",
    "        ('num', Pipeline(steps=[\n",
    "            ('imputer', SimpleImputer(strategy='median')),\n",
    "            ('scaler', StandardScaler())\n",
    "        ]), numeric_columns)\n",
    "    ]\n",
    ")\n"
   ]
  },
  {
   "cell_type": "code",
   "execution_count": 16,
   "metadata": {
    "id": "JngfE-1a1ITn"
   },
   "outputs": [],
   "source": [
    "# Create a pipeline that first transforms data and then fits the model\n",
    "pipeline = Pipeline(steps=[\n",
    "    ('preprocessor', preprocessor),\n",
    "    ('classifier', RandomForestClassifier(random_state=42))\n",
    "])\n",
    "\n",
    "# Define the hyperparameters to tune\n",
    "param_grid = {\n",
    "    'classifier__n_estimators': [300],           \n",
    "    'classifier__max_depth': [12],         \n",
    "    'classifier__min_samples_split': [5],        \n",
    "    'classifier__min_samples_leaf': [4],         \n",
    "    'classifier__bootstrap': [True, False]     \n",
    "}\n"
   ]
  },
  {
   "cell_type": "code",
   "execution_count": 17,
   "metadata": {
    "colab": {
     "base_uri": "https://localhost:8080/"
    },
    "id": "6IN1fFDB1MqJ",
    "outputId": "f6e50f1d-f016-4042-aca1-6c47b83d8bbb"
   },
   "outputs": [
    {
     "name": "stdout",
     "output_type": "stream",
     "text": [
      "Fitting 5 folds for each of 2 candidates, totalling 10 fits\n"
     ]
    }
   ],
   "source": [
    "grid_search = GridSearchCV(pipeline, param_grid, cv=5, n_jobs=-1, verbose=2, scoring='accuracy')\n",
    "\n",
    "# Split the data into training and testing sets\n",
    "X_train, X_test, y_train, y_test = train_test_split(X, y, test_size=0.30, random_state=42)\n",
    "\n",
    "# Train the model using grid search\n",
    "grid_search.fit(X_train, y_train)\n",
    "\n",
    "# Get the best model from grid search\n",
    "best_model = grid_search.best_estimator_\n",
    "\n",
    "# Make predictions on the test set using the best model\n",
    "y_pred = best_model.predict(X_test)"
   ]
  },
  {
   "cell_type": "code",
   "execution_count": 18,
   "metadata": {
    "colab": {
     "base_uri": "https://localhost:8080/"
    },
    "id": "kLkvvPVt2G-W",
    "outputId": "6a9c5882-bb6e-49e5-ae4b-1b7a460fcbee"
   },
   "outputs": [
    {
     "name": "stdout",
     "output_type": "stream",
     "text": [
      "Best Parameters: {'classifier__bootstrap': False, 'classifier__max_depth': 12, 'classifier__min_samples_leaf': 4, 'classifier__min_samples_split': 5, 'classifier__n_estimators': 300}\n",
      "Accuracy: 0.90\n",
      "Confusion Matrix:\n",
      "[[ 538  146   45]\n",
      " [  85  629    6]\n",
      " [  14    2 1405]]\n",
      "Classification Report:\n",
      "              precision    recall  f1-score   support\n",
      "\n",
      "           0       0.84      0.74      0.79       729\n",
      "           1       0.81      0.87      0.84       720\n",
      "           2       0.96      0.99      0.98      1421\n",
      "\n",
      "    accuracy                           0.90      2870\n",
      "   macro avg       0.87      0.87      0.87      2870\n",
      "weighted avg       0.90      0.90      0.89      2870\n",
      "\n"
     ]
    }
   ],
   "source": [
    "# Evaluate the best model\n",
    "accuracy = accuracy_score(y_test, y_pred)\n",
    "conf_matrix = confusion_matrix(y_test, y_pred)\n",
    "class_report = classification_report(y_test, y_pred)\n",
    "\n",
    "# Print evaluation metrics\n",
    "print(f\"Best Parameters: {grid_search.best_params_}\")\n",
    "print(f\"Accuracy: {accuracy:.2f}\")\n",
    "print(\"Confusion Matrix:\")\n",
    "print(conf_matrix)\n",
    "print(\"Classification Report:\")\n",
    "print(class_report)"
   ]
  }
 ],
 "metadata": {
  "colab": {
   "provenance": []
  },
  "kernelspec": {
   "display_name": "Python 3",
   "language": "python",
   "name": "python3"
  },
  "language_info": {
   "codemirror_mode": {
    "name": "ipython",
    "version": 3
   },
   "file_extension": ".py",
   "mimetype": "text/x-python",
   "name": "python",
   "nbconvert_exporter": "python",
   "pygments_lexer": "ipython3",
   "version": "3.9.13"
  }
 },
 "nbformat": 4,
 "nbformat_minor": 1
}
